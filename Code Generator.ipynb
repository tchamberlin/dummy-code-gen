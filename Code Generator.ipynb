{
 "cells": [
  {
   "cell_type": "markdown",
   "metadata": {},
   "source": [
    "# Dummy2FA\n",
    "\n",
    "A comically awful (but somewhat educational) rolling code generator\n",
    "\n",
    "**Seriously -- don't ever use this for anything, ever**\n"
   ]
  },
  {
   "cell_type": "code",
   "execution_count": 1,
   "metadata": {},
   "outputs": [],
   "source": [
    "from IPython.display import Markdown, display\n",
    "def printmd(string):\n",
    "    \"\"\"Print the given string rendered via Markdown\"\"\"\n",
    "    \n",
    "    display(Markdown(string))"
   ]
  },
  {
   "cell_type": "code",
   "execution_count": null,
   "metadata": {},
   "outputs": [],
   "source": [
    "from datetime import timedelta\n",
    "\n",
    "def gen_code(seed, time):\n",
    "    \"\"\"Generate a unique code for a given seed and time\"\"\"\n",
    "    \n",
    "    # Get the seconds since Jan. 1, 1970 UTC for the given time\n",
    "    seconds_since_epoch = time.timestamp()\n",
    "    print(f\"{time} as seconds since epoch: {seconds_since_epoch}\")\n",
    "    \n",
    "    # Create a \"secret\" value by dividing seconds_since_epoch by our seed value\n",
    "    # Like I said, super secret...\n",
    "    secret_seconds = seconds_since_epoch / seed\n",
    "    print(f\"Super secret seconds value: {secret_seconds}\")\n",
    "    \n",
    "    # Add this secret time to the current time\n",
    "    secret_time = time + timedelta(seconds=secret_seconds)\n",
    "    print(f\"Super secret time value: {secret_time}\")\n",
    "    \n",
    "    # Return only the microsecond (%f) portion of our secret_time (6 digits)\n",
    "    return secret_time.strftime(\"%f\")"
   ]
  },
  {
   "cell_type": "code",
   "execution_count": 3,
   "metadata": {},
   "outputs": [],
   "source": [
    "def round_to(num, base):\n",
    "    \"\"\"Round a given num to a given base value\n",
    "    e.g. 37 rounded to base 30 would be 30\n",
    "    37 rounded to base 40 would be 40\n",
    "    \"\"\"\n",
    "    \n",
    "    return int(base * round(num / base))"
   ]
  },
  {
   "cell_type": "code",
   "execution_count": 4,
   "metadata": {},
   "outputs": [],
   "source": [
    "from datetime import datetime\n",
    "\n",
    "def gen_time(window):\n",
    "    \"\"\"Generate the current time, rounded to the value of window\"\"\"\n",
    "    \n",
    "    time = datetime.now()\n",
    "    rounded_seconds = round_to(time.second, window)\n",
    "    # Prevent second overflow\n",
    "    rounded_seconds = rounded_seconds if rounded_seconds < 59 else 59\n",
    "    # Set our seconds to the rounded value. Set microseconds to 0; they don't matter\n",
    "    time = time.replace(second=rounded_seconds, microsecond=0)\n",
    "    return time"
   ]
  },
  {
   "cell_type": "code",
   "execution_count": null,
   "metadata": {},
   "outputs": [],
   "source": [
    "from random import randint\n",
    "def gen_seed():\n",
    "    \"\"\"Generate a random seed value (an int 0 - 9999)\"\"\"\n",
    "    \n",
    "    return randint(0, 10000)"
   ]
  },
  {
   "cell_type": "code",
   "execution_count": null,
   "metadata": {},
   "outputs": [],
   "source": [
    "# This will use the \"notebook\" version of tqdm (prettier progress bars)\n",
    "from tqdm.auto import tqdm\n",
    "from time import sleep\n",
    "def sleep_with_progress(seconds):\n",
    "    \"\"\"Sleep for given number of seconds; show progress bar for duration\"\"\"\n",
    "    \n",
    "    for second in tqdm(range(seconds), unit=\"seconds\"):\n",
    "        sleep(1)"
   ]
  },
  {
   "cell_type": "code",
   "execution_count": null,
   "metadata": {},
   "outputs": [],
   "source": [
    "def get_seed():\n",
    "    \"\"\"Get seed from user or generate one if none given\"\"\"\n",
    "\n",
    "    seed = input(\"Input your secret seed value: \")\n",
    "    if not seed.strip():\n",
    "        print(\"No seed given; generating a new one\")\n",
    "    else:\n",
    "        try:\n",
    "            seed = int(seed)\n",
    "        except ValueError:\n",
    "            raise ValueError(\"Invalid seed! Must provide value 0 - 9999\")\n",
    "        else:\n",
    "            if not 0 < seed < 10000:\n",
    "                raise ValueError(\"Invalid seed! Must provide value 0 - 9999\")\n",
    "\n",
    "        return gen_seed()"
   ]
  },
  {
   "cell_type": "code",
   "execution_count": null,
   "metadata": {
    "scrolled": true
   },
   "outputs": [
    {
     "name": "stdout",
     "output_type": "stream",
     "text": [
      "Input your secret seed value: 33\n",
      "Super secret seed is: 7553\n",
      "2018-12-22 14:56:59 as seconds since epoch: 1545508619.0\n",
      "Super secret seconds value: 204621.82166026745\n",
      "Super secret time value: 2018-12-24 23:47:20.821660\n"
     ]
    },
    {
     "data": {
      "text/markdown": [
       "Code at time 14:56:59: **821660**"
      ],
      "text/plain": [
       "<IPython.core.display.Markdown object>"
      ]
     },
     "metadata": {},
     "output_type": "display_data"
    },
    {
     "data": {
      "application/vnd.jupyter.widget-view+json": {
       "model_id": "34fb61dad6cc40c6ae4a2f9ce19c5cb9",
       "version_major": 2,
       "version_minor": 0
      },
      "text/plain": [
       "HBox(children=(IntProgress(value=0, max=30), HTML(value='')))"
      ]
     },
     "metadata": {},
     "output_type": "display_data"
    },
    {
     "name": "stdout",
     "output_type": "stream",
     "text": [
      "\n",
      "2018-12-22 14:57:30 as seconds since epoch: 1545508650.0\n",
      "Super secret seconds value: 204621.82576459684\n",
      "Super secret time value: 2018-12-24 23:47:51.825765\n"
     ]
    },
    {
     "data": {
      "text/markdown": [
       "Code at time 14:57:30: **825765**"
      ],
      "text/plain": [
       "<IPython.core.display.Markdown object>"
      ]
     },
     "metadata": {},
     "output_type": "display_data"
    },
    {
     "data": {
      "application/vnd.jupyter.widget-view+json": {
       "model_id": "41671a6ef3c3439dadb0b2b2b6d1f2d1",
       "version_major": 2,
       "version_minor": 0
      },
      "text/plain": [
       "HBox(children=(IntProgress(value=0, max=30), HTML(value='')))"
      ]
     },
     "metadata": {},
     "output_type": "display_data"
    },
    {
     "name": "stdout",
     "output_type": "stream",
     "text": [
      "\n",
      "2018-12-22 14:57:59 as seconds since epoch: 1545508679.0\n",
      "Super secret seconds value: 204621.82960413082\n",
      "Super secret time value: 2018-12-24 23:48:20.829604\n"
     ]
    },
    {
     "data": {
      "text/markdown": [
       "Code at time 14:57:59: **829604**"
      ],
      "text/plain": [
       "<IPython.core.display.Markdown object>"
      ]
     },
     "metadata": {},
     "output_type": "display_data"
    },
    {
     "data": {
      "application/vnd.jupyter.widget-view+json": {
       "model_id": "dcfbc36d41af4d248bc00617d8ac0652",
       "version_major": 2,
       "version_minor": 0
      },
      "text/plain": [
       "HBox(children=(IntProgress(value=0, max=30), HTML(value='')))"
      ]
     },
     "metadata": {},
     "output_type": "display_data"
    },
    {
     "name": "stdout",
     "output_type": "stream",
     "text": [
      "\n",
      "2018-12-22 14:58:30 as seconds since epoch: 1545508710.0\n",
      "Super secret seconds value: 204621.8337084602\n",
      "Super secret time value: 2018-12-24 23:48:51.833708\n"
     ]
    },
    {
     "data": {
      "text/markdown": [
       "Code at time 14:58:30: **833708**"
      ],
      "text/plain": [
       "<IPython.core.display.Markdown object>"
      ]
     },
     "metadata": {},
     "output_type": "display_data"
    },
    {
     "data": {
      "application/vnd.jupyter.widget-view+json": {
       "model_id": "b824d9a11052470d8b8c2069f3cd56cb",
       "version_major": 2,
       "version_minor": 0
      },
      "text/plain": [
       "HBox(children=(IntProgress(value=0, max=30), HTML(value='')))"
      ]
     },
     "metadata": {},
     "output_type": "display_data"
    },
    {
     "name": "stdout",
     "output_type": "stream",
     "text": [
      "\n",
      "2018-12-22 14:58:59 as seconds since epoch: 1545508739.0\n",
      "Super secret seconds value: 204621.83754799416\n",
      "Super secret time value: 2018-12-24 23:49:20.837548\n"
     ]
    },
    {
     "data": {
      "text/markdown": [
       "Code at time 14:58:59: **837548**"
      ],
      "text/plain": [
       "<IPython.core.display.Markdown object>"
      ]
     },
     "metadata": {},
     "output_type": "display_data"
    },
    {
     "data": {
      "application/vnd.jupyter.widget-view+json": {
       "model_id": "447c8b9a4e84444f8e7d4f6ef6b164b8",
       "version_major": 2,
       "version_minor": 0
      },
      "text/plain": [
       "HBox(children=(IntProgress(value=0, max=30), HTML(value='')))"
      ]
     },
     "metadata": {},
     "output_type": "display_data"
    }
   ],
   "source": [
    "window = 30\n",
    "seed = get_seed()\n",
    "print(f\"Super secret seed is: {seed}\")\n",
    "while True:\n",
    "    # Representation of current time as the number of seconds since Jan. 1, 1970 UTC\n",
    "    now = gen_time(window)\n",
    "    # A secret code based on the current time and our secret seed\n",
    "    code = gen_code(seed, now)\n",
    "    printmd(f\"Code at time {now.time()}: **{code}**\")\n",
    "    # Wait until the next code needs to be generated\n",
    "    sleep_with_progress(window)"
   ]
  },
  {
   "cell_type": "code",
   "execution_count": null,
   "metadata": {},
   "outputs": [],
   "source": []
  }
 ],
 "metadata": {
  "kernelspec": {
   "display_name": "Python 3",
   "language": "python",
   "name": "python3"
  },
  "language_info": {
   "codemirror_mode": {
    "name": "ipython",
    "version": 3
   },
   "file_extension": ".py",
   "mimetype": "text/x-python",
   "name": "python",
   "nbconvert_exporter": "python",
   "pygments_lexer": "ipython3",
   "version": "3.6.3"
  }
 },
 "nbformat": 4,
 "nbformat_minor": 2
}
